{
  "nbformat": 4,
  "nbformat_minor": 0,
  "metadata": {
    "colab": {
      "name": "Copy of secondarystructure_190219.ipynb",
      "version": "0.3.2",
      "provenance": [],
      "include_colab_link": true
    },
    "kernelspec": {
      "display_name": "Python 3",
      "language": "python",
      "name": "python3"
    }
  },
  "cells": [
    {
      "cell_type": "markdown",
      "metadata": {
        "id": "view-in-github",
        "colab_type": "text"
      },
      "source": [
        "<a href=\"https://colab.research.google.com/github/hutch-gwc/science_fair/blob/master/final%20project-secondary%20protein%20structure.ipynb\" target=\"_parent\"><img src=\"https://colab.research.google.com/assets/colab-badge.svg\" alt=\"Open In Colab\"/></a>"
      ]
    },
    {
      "metadata": {
        "colab_type": "text",
        "id": "wOgI60xUTVSM"
      },
      "cell_type": "markdown",
      "source": [
        "Secondary Structure and DMS Data\n",
        "-----"
      ]
    },
    {
      "metadata": {
        "colab_type": "code",
        "id": "1Kpy9dNjSQ_v",
        "colab": {}
      },
      "cell_type": "code",
      "source": [
        "#importing software to read the data\n",
        "\n",
        "import pandas as pd\n",
        "from scipy.stats import entropy\n",
        "import scipy\n",
        "import seaborn as sns\n",
        "import matplotlib.pyplot as plt"
      ],
      "execution_count": 0,
      "outputs": []
    },
    {
      "metadata": {
        "colab_type": "text",
        "id": "tm2ssOPvTbD6"
      },
      "cell_type": "markdown",
      "source": [
        "Get Relative Solvent Accesibility(RSA) Data \n",
        "----\n",
        "Importing the raw data and having the software unpack and read it.\n",
        "Finding the RSA flu protien_ \n",
        "Removing any columns we do not need_\n",
        "Printing the data"
      ]
    },
    {
      "metadata": {
        "colab_type": "code",
        "id": "sr-f2QRLSjE5",
        "outputId": "4dfb9aef-8437-40ba-b0c4-6a9990526790",
        "colab": {
          "base_uri": "https://localhost:8080/",
          "height": 202
        }
      },
      "cell_type": "code",
      "source": [
        "\n",
        "RSA = pd.read_csv(\"https://raw.githubusercontent.com/hutch-gwc/Rosalind/master/rsa.csv\")  # read the data\n",
        "RSA.drop(['index'], axis=1, inplace=True)  # drop column we don't need\n",
        "RSA = RSA[RSA.protein == \"Flu\"]  # we only want the flu protein\n",
        "RSA.drop(['protein'], axis=1, inplace=True)  # we don't need the protein column any more\n",
        "RSA.head()"
      ],
      "execution_count": 3,
      "outputs": [
        {
          "output_type": "execute_result",
          "data": {
            "text/html": [
              "<div>\n",
              "<style scoped>\n",
              "    .dataframe tbody tr th:only-of-type {\n",
              "        vertical-align: middle;\n",
              "    }\n",
              "\n",
              "    .dataframe tbody tr th {\n",
              "        vertical-align: top;\n",
              "    }\n",
              "\n",
              "    .dataframe thead th {\n",
              "        text-align: right;\n",
              "    }\n",
              "</style>\n",
              "<table border=\"1\" class=\"dataframe\">\n",
              "  <thead>\n",
              "    <tr style=\"text-align: right;\">\n",
              "      <th></th>\n",
              "      <th>site</th>\n",
              "      <th>RSA</th>\n",
              "    </tr>\n",
              "  </thead>\n",
              "  <tbody>\n",
              "    <tr>\n",
              "      <th>530</th>\n",
              "      <td>18</td>\n",
              "      <td>0.170984</td>\n",
              "    </tr>\n",
              "    <tr>\n",
              "      <th>531</th>\n",
              "      <td>19</td>\n",
              "      <td>0.168605</td>\n",
              "    </tr>\n",
              "    <tr>\n",
              "      <th>532</th>\n",
              "      <td>20</td>\n",
              "      <td>0.000000</td>\n",
              "    </tr>\n",
              "    <tr>\n",
              "      <th>533</th>\n",
              "      <td>21</td>\n",
              "      <td>0.077844</td>\n",
              "    </tr>\n",
              "    <tr>\n",
              "      <th>534</th>\n",
              "      <td>22</td>\n",
              "      <td>0.005076</td>\n",
              "    </tr>\n",
              "  </tbody>\n",
              "</table>\n",
              "</div>"
            ],
            "text/plain": [
              "     site       RSA\n",
              "530    18  0.170984\n",
              "531    19  0.168605\n",
              "532    20  0.000000\n",
              "533    21  0.077844\n",
              "534    22  0.005076"
            ]
          },
          "metadata": {
            "tags": []
          },
          "execution_count": 3
        }
      ]
    },
    {
      "metadata": {
        "id": "toMfHpqIXE8U",
        "colab_type": "text"
      },
      "cell_type": "markdown",
      "source": [
        "Get Preference Data\n",
        "-----\n",
        "Using the same software to unpack and read the preference data. This data is the preference of the amino acid in the protien.\n",
        "\n",
        "\n",
        "\n",
        "\n",
        "\n",
        "\n",
        "\n",
        "\n",
        "\n",
        "\n"
      ]
    },
    {
      "metadata": {
        "colab_type": "code",
        "id": "ya22HAXmSkRN",
        "outputId": "2ef37c86-3e31-4bb4-a67e-c66f483d1633",
        "scrolled": true,
        "colab": {
          "base_uri": "https://localhost:8080/",
          "height": 251
        }
      },
      "cell_type": "code",
      "source": [
        "prefs = pd.read_csv(\"https://raw.githubusercontent.com/hutch-gwc/Rosalind/master/HA_prefs_wt.csv\")  # read in the data \n",
        "prefs.head()"
      ],
      "execution_count": 4,
      "outputs": [
        {
          "output_type": "execute_result",
          "data": {
            "text/html": [
              "<div>\n",
              "<style scoped>\n",
              "    .dataframe tbody tr th:only-of-type {\n",
              "        vertical-align: middle;\n",
              "    }\n",
              "\n",
              "    .dataframe tbody tr th {\n",
              "        vertical-align: top;\n",
              "    }\n",
              "\n",
              "    .dataframe thead th {\n",
              "        text-align: right;\n",
              "    }\n",
              "</style>\n",
              "<table border=\"1\" class=\"dataframe\">\n",
              "  <thead>\n",
              "    <tr style=\"text-align: right;\">\n",
              "      <th></th>\n",
              "      <th>A</th>\n",
              "      <th>C</th>\n",
              "      <th>D</th>\n",
              "      <th>E</th>\n",
              "      <th>F</th>\n",
              "      <th>G</th>\n",
              "      <th>H</th>\n",
              "      <th>I</th>\n",
              "      <th>K</th>\n",
              "      <th>L</th>\n",
              "      <th>...</th>\n",
              "      <th>P</th>\n",
              "      <th>Q</th>\n",
              "      <th>R</th>\n",
              "      <th>S</th>\n",
              "      <th>T</th>\n",
              "      <th>V</th>\n",
              "      <th>W</th>\n",
              "      <th>Y</th>\n",
              "      <th>site</th>\n",
              "      <th>wt</th>\n",
              "    </tr>\n",
              "  </thead>\n",
              "  <tbody>\n",
              "    <tr>\n",
              "      <th>0</th>\n",
              "      <td>0.050522</td>\n",
              "      <td>0.292074</td>\n",
              "      <td>0.041984</td>\n",
              "      <td>0.069723</td>\n",
              "      <td>0.112054</td>\n",
              "      <td>0.070729</td>\n",
              "      <td>0.207317</td>\n",
              "      <td>0.172276</td>\n",
              "      <td>0.175882</td>\n",
              "      <td>0.170153</td>\n",
              "      <td>...</td>\n",
              "      <td>0.095909</td>\n",
              "      <td>0.145664</td>\n",
              "      <td>0.068147</td>\n",
              "      <td>0.169200</td>\n",
              "      <td>0.216658</td>\n",
              "      <td>0.183667</td>\n",
              "      <td>0.070102</td>\n",
              "      <td>0.282156</td>\n",
              "      <td>1</td>\n",
              "      <td>K</td>\n",
              "    </tr>\n",
              "    <tr>\n",
              "      <th>1</th>\n",
              "      <td>0.299156</td>\n",
              "      <td>0.092621</td>\n",
              "      <td>0.193645</td>\n",
              "      <td>0.147577</td>\n",
              "      <td>0.093380</td>\n",
              "      <td>0.048215</td>\n",
              "      <td>0.110770</td>\n",
              "      <td>0.303162</td>\n",
              "      <td>0.100233</td>\n",
              "      <td>0.172399</td>\n",
              "      <td>...</td>\n",
              "      <td>0.130529</td>\n",
              "      <td>0.103289</td>\n",
              "      <td>0.232608</td>\n",
              "      <td>0.080003</td>\n",
              "      <td>0.153042</td>\n",
              "      <td>0.209860</td>\n",
              "      <td>0.049683</td>\n",
              "      <td>0.175782</td>\n",
              "      <td>2</td>\n",
              "      <td>A</td>\n",
              "    </tr>\n",
              "    <tr>\n",
              "      <th>2</th>\n",
              "      <td>0.282239</td>\n",
              "      <td>0.054260</td>\n",
              "      <td>0.075008</td>\n",
              "      <td>0.115239</td>\n",
              "      <td>0.052471</td>\n",
              "      <td>0.070930</td>\n",
              "      <td>0.090155</td>\n",
              "      <td>0.078627</td>\n",
              "      <td>0.245923</td>\n",
              "      <td>0.158548</td>\n",
              "      <td>...</td>\n",
              "      <td>0.086427</td>\n",
              "      <td>0.165511</td>\n",
              "      <td>0.145599</td>\n",
              "      <td>0.226275</td>\n",
              "      <td>0.227845</td>\n",
              "      <td>0.169360</td>\n",
              "      <td>0.081525</td>\n",
              "      <td>0.108752</td>\n",
              "      <td>3</td>\n",
              "      <td>K</td>\n",
              "    </tr>\n",
              "    <tr>\n",
              "      <th>3</th>\n",
              "      <td>0.285097</td>\n",
              "      <td>0.571661</td>\n",
              "      <td>0.023748</td>\n",
              "      <td>0.078999</td>\n",
              "      <td>0.264428</td>\n",
              "      <td>0.101803</td>\n",
              "      <td>0.186965</td>\n",
              "      <td>0.092665</td>\n",
              "      <td>0.074159</td>\n",
              "      <td>0.344304</td>\n",
              "      <td>...</td>\n",
              "      <td>0.042051</td>\n",
              "      <td>0.093530</td>\n",
              "      <td>0.064137</td>\n",
              "      <td>0.017293</td>\n",
              "      <td>0.103523</td>\n",
              "      <td>0.148757</td>\n",
              "      <td>0.218695</td>\n",
              "      <td>0.103401</td>\n",
              "      <td>4</td>\n",
              "      <td>L</td>\n",
              "    </tr>\n",
              "    <tr>\n",
              "      <th>4</th>\n",
              "      <td>0.185255</td>\n",
              "      <td>0.157839</td>\n",
              "      <td>0.127189</td>\n",
              "      <td>0.069883</td>\n",
              "      <td>0.490540</td>\n",
              "      <td>0.035142</td>\n",
              "      <td>0.066323</td>\n",
              "      <td>0.136314</td>\n",
              "      <td>0.044657</td>\n",
              "      <td>0.525195</td>\n",
              "      <td>...</td>\n",
              "      <td>0.071764</td>\n",
              "      <td>0.058580</td>\n",
              "      <td>0.098211</td>\n",
              "      <td>0.033002</td>\n",
              "      <td>0.051313</td>\n",
              "      <td>0.269358</td>\n",
              "      <td>0.093787</td>\n",
              "      <td>0.249184</td>\n",
              "      <td>5</td>\n",
              "      <td>L</td>\n",
              "    </tr>\n",
              "  </tbody>\n",
              "</table>\n",
              "<p>5 rows × 22 columns</p>\n",
              "</div>"
            ],
            "text/plain": [
              "          A         C         D         E         F         G         H  \\\n",
              "0  0.050522  0.292074  0.041984  0.069723  0.112054  0.070729  0.207317   \n",
              "1  0.299156  0.092621  0.193645  0.147577  0.093380  0.048215  0.110770   \n",
              "2  0.282239  0.054260  0.075008  0.115239  0.052471  0.070930  0.090155   \n",
              "3  0.285097  0.571661  0.023748  0.078999  0.264428  0.101803  0.186965   \n",
              "4  0.185255  0.157839  0.127189  0.069883  0.490540  0.035142  0.066323   \n",
              "\n",
              "          I         K         L ...         P         Q         R         S  \\\n",
              "0  0.172276  0.175882  0.170153 ...  0.095909  0.145664  0.068147  0.169200   \n",
              "1  0.303162  0.100233  0.172399 ...  0.130529  0.103289  0.232608  0.080003   \n",
              "2  0.078627  0.245923  0.158548 ...  0.086427  0.165511  0.145599  0.226275   \n",
              "3  0.092665  0.074159  0.344304 ...  0.042051  0.093530  0.064137  0.017293   \n",
              "4  0.136314  0.044657  0.525195 ...  0.071764  0.058580  0.098211  0.033002   \n",
              "\n",
              "          T         V         W         Y  site  wt  \n",
              "0  0.216658  0.183667  0.070102  0.282156     1   K  \n",
              "1  0.153042  0.209860  0.049683  0.175782     2   A  \n",
              "2  0.227845  0.169360  0.081525  0.108752     3   K  \n",
              "3  0.103523  0.148757  0.218695  0.103401     4   L  \n",
              "4  0.051313  0.269358  0.093787  0.249184     5   L  \n",
              "\n",
              "[5 rows x 22 columns]"
            ]
          },
          "metadata": {
            "tags": []
          },
          "execution_count": 4
        }
      ]
    },
    {
      "metadata": {
        "id": "MqaOo1odXE8f",
        "colab_type": "text"
      },
      "cell_type": "markdown",
      "source": [
        "Combine RSA and preference data into one dataframe and calculate entropy:\n",
        "------\n",
        "Merging the dataframes and finding the randomness of the amino acids. Entropy is the randomness of amino acids in a protien. We first merged the data and then found the entropy by using imported software."
      ]
    },
    {
      "metadata": {
        "colab_type": "code",
        "id": "lO813caZTFLc",
        "outputId": "ec8f428f-f029-4474-e3aa-1ffd946bb33d",
        "colab": {
          "base_uri": "https://localhost:8080/",
          "height": 251
        }
      },
      "cell_type": "code",
      "source": [
        "df = pd.merge(RSA, prefs, on='site', how='inner')\n",
        "df.head()"
      ],
      "execution_count": 5,
      "outputs": [
        {
          "output_type": "execute_result",
          "data": {
            "text/html": [
              "<div>\n",
              "<style scoped>\n",
              "    .dataframe tbody tr th:only-of-type {\n",
              "        vertical-align: middle;\n",
              "    }\n",
              "\n",
              "    .dataframe tbody tr th {\n",
              "        vertical-align: top;\n",
              "    }\n",
              "\n",
              "    .dataframe thead th {\n",
              "        text-align: right;\n",
              "    }\n",
              "</style>\n",
              "<table border=\"1\" class=\"dataframe\">\n",
              "  <thead>\n",
              "    <tr style=\"text-align: right;\">\n",
              "      <th></th>\n",
              "      <th>site</th>\n",
              "      <th>RSA</th>\n",
              "      <th>A</th>\n",
              "      <th>C</th>\n",
              "      <th>D</th>\n",
              "      <th>E</th>\n",
              "      <th>F</th>\n",
              "      <th>G</th>\n",
              "      <th>H</th>\n",
              "      <th>I</th>\n",
              "      <th>...</th>\n",
              "      <th>N</th>\n",
              "      <th>P</th>\n",
              "      <th>Q</th>\n",
              "      <th>R</th>\n",
              "      <th>S</th>\n",
              "      <th>T</th>\n",
              "      <th>V</th>\n",
              "      <th>W</th>\n",
              "      <th>Y</th>\n",
              "      <th>wt</th>\n",
              "    </tr>\n",
              "  </thead>\n",
              "  <tbody>\n",
              "    <tr>\n",
              "      <th>0</th>\n",
              "      <td>18</td>\n",
              "      <td>0.170984</td>\n",
              "      <td>0.031051</td>\n",
              "      <td>0.032774</td>\n",
              "      <td>0.066396</td>\n",
              "      <td>0.130986</td>\n",
              "      <td>0.077862</td>\n",
              "      <td>0.010545</td>\n",
              "      <td>0.230710</td>\n",
              "      <td>0.057492</td>\n",
              "      <td>...</td>\n",
              "      <td>0.110354</td>\n",
              "      <td>0.016166</td>\n",
              "      <td>0.196481</td>\n",
              "      <td>0.325941</td>\n",
              "      <td>0.336750</td>\n",
              "      <td>0.297381</td>\n",
              "      <td>0.198282</td>\n",
              "      <td>0.063771</td>\n",
              "      <td>0.161101</td>\n",
              "      <td>T</td>\n",
              "    </tr>\n",
              "    <tr>\n",
              "      <th>1</th>\n",
              "      <td>19</td>\n",
              "      <td>0.168605</td>\n",
              "      <td>0.035575</td>\n",
              "      <td>0.074407</td>\n",
              "      <td>0.097060</td>\n",
              "      <td>0.050744</td>\n",
              "      <td>0.068674</td>\n",
              "      <td>0.030246</td>\n",
              "      <td>0.057919</td>\n",
              "      <td>1.135448</td>\n",
              "      <td>...</td>\n",
              "      <td>0.046414</td>\n",
              "      <td>0.131968</td>\n",
              "      <td>0.050284</td>\n",
              "      <td>0.059777</td>\n",
              "      <td>0.032668</td>\n",
              "      <td>0.205351</td>\n",
              "      <td>0.276241</td>\n",
              "      <td>0.083863</td>\n",
              "      <td>0.066269</td>\n",
              "      <td>I</td>\n",
              "    </tr>\n",
              "    <tr>\n",
              "      <th>2</th>\n",
              "      <td>20</td>\n",
              "      <td>0.000000</td>\n",
              "      <td>0.057711</td>\n",
              "      <td>1.578429</td>\n",
              "      <td>0.123115</td>\n",
              "      <td>0.056940</td>\n",
              "      <td>0.157598</td>\n",
              "      <td>0.053046</td>\n",
              "      <td>0.048184</td>\n",
              "      <td>0.054634</td>\n",
              "      <td>...</td>\n",
              "      <td>0.061416</td>\n",
              "      <td>0.055079</td>\n",
              "      <td>0.060295</td>\n",
              "      <td>0.098218</td>\n",
              "      <td>0.047429</td>\n",
              "      <td>0.044885</td>\n",
              "      <td>0.062976</td>\n",
              "      <td>0.139656</td>\n",
              "      <td>0.110007</td>\n",
              "      <td>C</td>\n",
              "    </tr>\n",
              "    <tr>\n",
              "      <th>3</th>\n",
              "      <td>21</td>\n",
              "      <td>0.077844</td>\n",
              "      <td>0.089144</td>\n",
              "      <td>0.100696</td>\n",
              "      <td>0.064763</td>\n",
              "      <td>0.094098</td>\n",
              "      <td>0.055839</td>\n",
              "      <td>0.038984</td>\n",
              "      <td>0.092634</td>\n",
              "      <td>1.469510</td>\n",
              "      <td>...</td>\n",
              "      <td>0.042902</td>\n",
              "      <td>0.039655</td>\n",
              "      <td>0.082291</td>\n",
              "      <td>0.039980</td>\n",
              "      <td>0.084321</td>\n",
              "      <td>0.099074</td>\n",
              "      <td>0.142382</td>\n",
              "      <td>0.103434</td>\n",
              "      <td>0.050375</td>\n",
              "      <td>I</td>\n",
              "    </tr>\n",
              "    <tr>\n",
              "      <th>4</th>\n",
              "      <td>22</td>\n",
              "      <td>0.005076</td>\n",
              "      <td>0.058867</td>\n",
              "      <td>0.135161</td>\n",
              "      <td>0.138590</td>\n",
              "      <td>0.079870</td>\n",
              "      <td>0.056306</td>\n",
              "      <td>1.476877</td>\n",
              "      <td>0.061189</td>\n",
              "      <td>0.051963</td>\n",
              "      <td>...</td>\n",
              "      <td>0.068674</td>\n",
              "      <td>0.029653</td>\n",
              "      <td>0.079329</td>\n",
              "      <td>0.068681</td>\n",
              "      <td>0.084593</td>\n",
              "      <td>0.037853</td>\n",
              "      <td>0.149194</td>\n",
              "      <td>0.105167</td>\n",
              "      <td>0.064609</td>\n",
              "      <td>G</td>\n",
              "    </tr>\n",
              "  </tbody>\n",
              "</table>\n",
              "<p>5 rows × 23 columns</p>\n",
              "</div>"
            ],
            "text/plain": [
              "   site       RSA         A         C         D         E         F         G  \\\n",
              "0    18  0.170984  0.031051  0.032774  0.066396  0.130986  0.077862  0.010545   \n",
              "1    19  0.168605  0.035575  0.074407  0.097060  0.050744  0.068674  0.030246   \n",
              "2    20  0.000000  0.057711  1.578429  0.123115  0.056940  0.157598  0.053046   \n",
              "3    21  0.077844  0.089144  0.100696  0.064763  0.094098  0.055839  0.038984   \n",
              "4    22  0.005076  0.058867  0.135161  0.138590  0.079870  0.056306  1.476877   \n",
              "\n",
              "          H         I ...         N         P         Q         R         S  \\\n",
              "0  0.230710  0.057492 ...  0.110354  0.016166  0.196481  0.325941  0.336750   \n",
              "1  0.057919  1.135448 ...  0.046414  0.131968  0.050284  0.059777  0.032668   \n",
              "2  0.048184  0.054634 ...  0.061416  0.055079  0.060295  0.098218  0.047429   \n",
              "3  0.092634  1.469510 ...  0.042902  0.039655  0.082291  0.039980  0.084321   \n",
              "4  0.061189  0.051963 ...  0.068674  0.029653  0.079329  0.068681  0.084593   \n",
              "\n",
              "          T         V         W         Y  wt  \n",
              "0  0.297381  0.198282  0.063771  0.161101   T  \n",
              "1  0.205351  0.276241  0.083863  0.066269   I  \n",
              "2  0.044885  0.062976  0.139656  0.110007   C  \n",
              "3  0.099074  0.142382  0.103434  0.050375   I  \n",
              "4  0.037853  0.149194  0.105167  0.064609   G  \n",
              "\n",
              "[5 rows x 23 columns]"
            ]
          },
          "metadata": {
            "tags": []
          },
          "execution_count": 5
        }
      ]
    },
    {
      "metadata": {
        "colab_type": "code",
        "id": "6KlTHexrTgMj",
        "outputId": "d0040cde-9079-4ab8-ea1d-dcd8dde3792b",
        "scrolled": true,
        "colab": {
          "base_uri": "https://localhost:8080/",
          "height": 251
        }
      },
      "cell_type": "code",
      "source": [
        "#Variables\n",
        "#Conditional\n",
        "#For loop\n",
        "amino_acids = [x for x in list(df.columns.values) if x not in [\"site\", \"RSA\", \"wt\", \"entropy\"]]\n",
        "df[\"entropy\"] = df[amino_acids].apply(lambda r: tuple(r), axis=1).apply(scipy.array)\n",
        "df[\"entropy\"] = df[\"entropy\"].apply(lambda x: scipy.log(entropy(x)))\n",
        "df.head()"
      ],
      "execution_count": 6,
      "outputs": [
        {
          "output_type": "execute_result",
          "data": {
            "text/html": [
              "<div>\n",
              "<style scoped>\n",
              "    .dataframe tbody tr th:only-of-type {\n",
              "        vertical-align: middle;\n",
              "    }\n",
              "\n",
              "    .dataframe tbody tr th {\n",
              "        vertical-align: top;\n",
              "    }\n",
              "\n",
              "    .dataframe thead th {\n",
              "        text-align: right;\n",
              "    }\n",
              "</style>\n",
              "<table border=\"1\" class=\"dataframe\">\n",
              "  <thead>\n",
              "    <tr style=\"text-align: right;\">\n",
              "      <th></th>\n",
              "      <th>site</th>\n",
              "      <th>RSA</th>\n",
              "      <th>A</th>\n",
              "      <th>C</th>\n",
              "      <th>D</th>\n",
              "      <th>E</th>\n",
              "      <th>F</th>\n",
              "      <th>G</th>\n",
              "      <th>H</th>\n",
              "      <th>I</th>\n",
              "      <th>...</th>\n",
              "      <th>P</th>\n",
              "      <th>Q</th>\n",
              "      <th>R</th>\n",
              "      <th>S</th>\n",
              "      <th>T</th>\n",
              "      <th>V</th>\n",
              "      <th>W</th>\n",
              "      <th>Y</th>\n",
              "      <th>wt</th>\n",
              "      <th>entropy</th>\n",
              "    </tr>\n",
              "  </thead>\n",
              "  <tbody>\n",
              "    <tr>\n",
              "      <th>0</th>\n",
              "      <td>18</td>\n",
              "      <td>0.170984</td>\n",
              "      <td>0.031051</td>\n",
              "      <td>0.032774</td>\n",
              "      <td>0.066396</td>\n",
              "      <td>0.130986</td>\n",
              "      <td>0.077862</td>\n",
              "      <td>0.010545</td>\n",
              "      <td>0.230710</td>\n",
              "      <td>0.057492</td>\n",
              "      <td>...</td>\n",
              "      <td>0.016166</td>\n",
              "      <td>0.196481</td>\n",
              "      <td>0.325941</td>\n",
              "      <td>0.336750</td>\n",
              "      <td>0.297381</td>\n",
              "      <td>0.198282</td>\n",
              "      <td>0.063771</td>\n",
              "      <td>0.161101</td>\n",
              "      <td>T</td>\n",
              "      <td>1.007952</td>\n",
              "    </tr>\n",
              "    <tr>\n",
              "      <th>1</th>\n",
              "      <td>19</td>\n",
              "      <td>0.168605</td>\n",
              "      <td>0.035575</td>\n",
              "      <td>0.074407</td>\n",
              "      <td>0.097060</td>\n",
              "      <td>0.050744</td>\n",
              "      <td>0.068674</td>\n",
              "      <td>0.030246</td>\n",
              "      <td>0.057919</td>\n",
              "      <td>1.135448</td>\n",
              "      <td>...</td>\n",
              "      <td>0.131968</td>\n",
              "      <td>0.050284</td>\n",
              "      <td>0.059777</td>\n",
              "      <td>0.032668</td>\n",
              "      <td>0.205351</td>\n",
              "      <td>0.276241</td>\n",
              "      <td>0.083863</td>\n",
              "      <td>0.066269</td>\n",
              "      <td>I</td>\n",
              "      <td>0.859274</td>\n",
              "    </tr>\n",
              "    <tr>\n",
              "      <th>2</th>\n",
              "      <td>20</td>\n",
              "      <td>0.000000</td>\n",
              "      <td>0.057711</td>\n",
              "      <td>1.578429</td>\n",
              "      <td>0.123115</td>\n",
              "      <td>0.056940</td>\n",
              "      <td>0.157598</td>\n",
              "      <td>0.053046</td>\n",
              "      <td>0.048184</td>\n",
              "      <td>0.054634</td>\n",
              "      <td>...</td>\n",
              "      <td>0.055079</td>\n",
              "      <td>0.060295</td>\n",
              "      <td>0.098218</td>\n",
              "      <td>0.047429</td>\n",
              "      <td>0.044885</td>\n",
              "      <td>0.062976</td>\n",
              "      <td>0.139656</td>\n",
              "      <td>0.110007</td>\n",
              "      <td>C</td>\n",
              "      <td>0.714210</td>\n",
              "    </tr>\n",
              "    <tr>\n",
              "      <th>3</th>\n",
              "      <td>21</td>\n",
              "      <td>0.077844</td>\n",
              "      <td>0.089144</td>\n",
              "      <td>0.100696</td>\n",
              "      <td>0.064763</td>\n",
              "      <td>0.094098</td>\n",
              "      <td>0.055839</td>\n",
              "      <td>0.038984</td>\n",
              "      <td>0.092634</td>\n",
              "      <td>1.469510</td>\n",
              "      <td>...</td>\n",
              "      <td>0.039655</td>\n",
              "      <td>0.082291</td>\n",
              "      <td>0.039980</td>\n",
              "      <td>0.084321</td>\n",
              "      <td>0.099074</td>\n",
              "      <td>0.142382</td>\n",
              "      <td>0.103434</td>\n",
              "      <td>0.050375</td>\n",
              "      <td>I</td>\n",
              "      <td>0.766489</td>\n",
              "    </tr>\n",
              "    <tr>\n",
              "      <th>4</th>\n",
              "      <td>22</td>\n",
              "      <td>0.005076</td>\n",
              "      <td>0.058867</td>\n",
              "      <td>0.135161</td>\n",
              "      <td>0.138590</td>\n",
              "      <td>0.079870</td>\n",
              "      <td>0.056306</td>\n",
              "      <td>1.476877</td>\n",
              "      <td>0.061189</td>\n",
              "      <td>0.051963</td>\n",
              "      <td>...</td>\n",
              "      <td>0.029653</td>\n",
              "      <td>0.079329</td>\n",
              "      <td>0.068681</td>\n",
              "      <td>0.084593</td>\n",
              "      <td>0.037853</td>\n",
              "      <td>0.149194</td>\n",
              "      <td>0.105167</td>\n",
              "      <td>0.064609</td>\n",
              "      <td>G</td>\n",
              "      <td>0.764519</td>\n",
              "    </tr>\n",
              "  </tbody>\n",
              "</table>\n",
              "<p>5 rows × 24 columns</p>\n",
              "</div>"
            ],
            "text/plain": [
              "   site       RSA         A         C         D         E         F         G  \\\n",
              "0    18  0.170984  0.031051  0.032774  0.066396  0.130986  0.077862  0.010545   \n",
              "1    19  0.168605  0.035575  0.074407  0.097060  0.050744  0.068674  0.030246   \n",
              "2    20  0.000000  0.057711  1.578429  0.123115  0.056940  0.157598  0.053046   \n",
              "3    21  0.077844  0.089144  0.100696  0.064763  0.094098  0.055839  0.038984   \n",
              "4    22  0.005076  0.058867  0.135161  0.138590  0.079870  0.056306  1.476877   \n",
              "\n",
              "          H         I    ...            P         Q         R         S  \\\n",
              "0  0.230710  0.057492    ...     0.016166  0.196481  0.325941  0.336750   \n",
              "1  0.057919  1.135448    ...     0.131968  0.050284  0.059777  0.032668   \n",
              "2  0.048184  0.054634    ...     0.055079  0.060295  0.098218  0.047429   \n",
              "3  0.092634  1.469510    ...     0.039655  0.082291  0.039980  0.084321   \n",
              "4  0.061189  0.051963    ...     0.029653  0.079329  0.068681  0.084593   \n",
              "\n",
              "          T         V         W         Y  wt   entropy  \n",
              "0  0.297381  0.198282  0.063771  0.161101   T  1.007952  \n",
              "1  0.205351  0.276241  0.083863  0.066269   I  0.859274  \n",
              "2  0.044885  0.062976  0.139656  0.110007   C  0.714210  \n",
              "3  0.099074  0.142382  0.103434  0.050375   I  0.766489  \n",
              "4  0.037853  0.149194  0.105167  0.064609   G  0.764519  \n",
              "\n",
              "[5 rows x 24 columns]"
            ]
          },
          "metadata": {
            "tags": []
          },
          "execution_count": 6
        }
      ]
    },
    {
      "metadata": {
        "id": "Wpz2rwydXE86",
        "colab_type": "text"
      },
      "cell_type": "markdown",
      "source": [
        "Classify amino acids as polar or non-polar:\n",
        "-----\n",
        "Used a dictionary to keep classify the polar and non-polar amino acids"
      ]
    },
    {
      "metadata": {
        "colab_type": "code",
        "id": "Z-vVLV-ZToZz",
        "outputId": "87014c74-1a9b-4511-8a02-7d36a08054b6",
        "colab": {
          "base_uri": "https://localhost:8080/",
          "height": 364
        }
      },
      "cell_type": "code",
      "source": [
        "classification = {'R': \"polar\", 'N': \"polar\", 'D': \"polar\", 'C': \"polar\", 'E': \"polar\", 'Q': \"polar\", 'H': \"polar\",\n",
        "                 'K': \"polar\", 'S': \"polar\", 'T': \"polar\", 'W': \"non-polar\", 'A': \"non-polar\", 'G': \"non-polar\",\n",
        "                 'I': \"non-polar\", 'L': \"non-polar\", 'M': \"non-polar\", 'F': \"non-polar\", 'P': \"non-polar\", 'V': \"non-polar\", 'Y': \"polar\"}        \n",
        "classification"
      ],
      "execution_count": 7,
      "outputs": [
        {
          "output_type": "execute_result",
          "data": {
            "text/plain": [
              "{'A': 'non-polar',\n",
              " 'C': 'polar',\n",
              " 'D': 'polar',\n",
              " 'E': 'polar',\n",
              " 'F': 'non-polar',\n",
              " 'G': 'non-polar',\n",
              " 'H': 'polar',\n",
              " 'I': 'non-polar',\n",
              " 'K': 'polar',\n",
              " 'L': 'non-polar',\n",
              " 'M': 'non-polar',\n",
              " 'N': 'polar',\n",
              " 'P': 'non-polar',\n",
              " 'Q': 'polar',\n",
              " 'R': 'polar',\n",
              " 'S': 'polar',\n",
              " 'T': 'polar',\n",
              " 'V': 'non-polar',\n",
              " 'W': 'non-polar',\n",
              " 'Y': 'polar'}"
            ]
          },
          "metadata": {
            "tags": []
          },
          "execution_count": 7
        }
      ]
    },
    {
      "metadata": {
        "colab_type": "text",
        "id": "V_9W_trdWkaK"
      },
      "cell_type": "markdown",
      "source": [
        "Entropy vs. RSA \n",
        "----\n",
        "Seeing if the RSA values are affecting the entropy levels of the amino acids."
      ]
    },
    {
      "metadata": {
        "colab_type": "code",
        "id": "-mBMYOxpUUUo",
        "outputId": "4ccd45b9-f18d-41cf-8e34-a16943ca180f",
        "colab": {
          "base_uri": "https://localhost:8080/",
          "height": 399
        }
      },
      "cell_type": "code",
      "source": [
        "ax1 = df.plot.scatter(x='RSA', y='entropy')"
      ],
      "execution_count": 8,
      "outputs": [
        {
          "output_type": "stream",
          "text": [
            "'c' argument looks like a single numeric RGB or RGBA sequence, which should be avoided as value-mapping will have precedence in case its length matches with 'x' & 'y'.  Please use a 2-D array with a single row if you really want to specify the same RGB or RGBA value for all points.\n"
          ],
          "name": "stderr"
        },
        {
          "output_type": "display_data",
          "data": {
            "image/png": "[encoded data removed]",
            "text/plain": [
              "<Figure size 576x396 with 1 Axes>"
            ]
          },
          "metadata": {
            "tags": []
          }
        }
      ]
    },
    {
      "metadata": {
        "colab_type": "text",
        "id": "M3xQseFyahDJ"
      },
      "cell_type": "markdown",
      "source": [
        "# **What is happening next?**\n",
        "catagorizing the wild-type protien in the dataframe with polarity and RSA values. Used the previous dictionary to identify and classify the amino acids into polar and non-polar. "
      ]
    },
    {
      "metadata": {
        "colab_type": "code",
        "id": "xqNdgzzUYORH",
        "outputId": "d03db696-bdfc-46d8-a57c-b11dd890cf0b",
        "colab": {
          "base_uri": "https://localhost:8080/",
          "height": 251
        }
      },
      "cell_type": "code",
      "source": [
        "df['wild_type_polarity'] = df['wt'].apply(lambda x: classification[x])\n",
        "df.head()\n"
      ],
      "execution_count": 9,
      "outputs": [
        {
          "output_type": "execute_result",
          "data": {
            "text/html": [
              "<div>\n",
              "<style scoped>\n",
              "    .dataframe tbody tr th:only-of-type {\n",
              "        vertical-align: middle;\n",
              "    }\n",
              "\n",
              "    .dataframe tbody tr th {\n",
              "        vertical-align: top;\n",
              "    }\n",
              "\n",
              "    .dataframe thead th {\n",
              "        text-align: right;\n",
              "    }\n",
              "</style>\n",
              "<table border=\"1\" class=\"dataframe\">\n",
              "  <thead>\n",
              "    <tr style=\"text-align: right;\">\n",
              "      <th></th>\n",
              "      <th>site</th>\n",
              "      <th>RSA</th>\n",
              "      <th>A</th>\n",
              "      <th>C</th>\n",
              "      <th>D</th>\n",
              "      <th>E</th>\n",
              "      <th>F</th>\n",
              "      <th>G</th>\n",
              "      <th>H</th>\n",
              "      <th>I</th>\n",
              "      <th>...</th>\n",
              "      <th>Q</th>\n",
              "      <th>R</th>\n",
              "      <th>S</th>\n",
              "      <th>T</th>\n",
              "      <th>V</th>\n",
              "      <th>W</th>\n",
              "      <th>Y</th>\n",
              "      <th>wt</th>\n",
              "      <th>entropy</th>\n",
              "      <th>wild_type_polarity</th>\n",
              "    </tr>\n",
              "  </thead>\n",
              "  <tbody>\n",
              "    <tr>\n",
              "      <th>0</th>\n",
              "      <td>18</td>\n",
              "      <td>0.170984</td>\n",
              "      <td>0.031051</td>\n",
              "      <td>0.032774</td>\n",
              "      <td>0.066396</td>\n",
              "      <td>0.130986</td>\n",
              "      <td>0.077862</td>\n",
              "      <td>0.010545</td>\n",
              "      <td>0.230710</td>\n",
              "      <td>0.057492</td>\n",
              "      <td>...</td>\n",
              "      <td>0.196481</td>\n",
              "      <td>0.325941</td>\n",
              "      <td>0.336750</td>\n",
              "      <td>0.297381</td>\n",
              "      <td>0.198282</td>\n",
              "      <td>0.063771</td>\n",
              "      <td>0.161101</td>\n",
              "      <td>T</td>\n",
              "      <td>1.007952</td>\n",
              "      <td>polar</td>\n",
              "    </tr>\n",
              "    <tr>\n",
              "      <th>1</th>\n",
              "      <td>19</td>\n",
              "      <td>0.168605</td>\n",
              "      <td>0.035575</td>\n",
              "      <td>0.074407</td>\n",
              "      <td>0.097060</td>\n",
              "      <td>0.050744</td>\n",
              "      <td>0.068674</td>\n",
              "      <td>0.030246</td>\n",
              "      <td>0.057919</td>\n",
              "      <td>1.135448</td>\n",
              "      <td>...</td>\n",
              "      <td>0.050284</td>\n",
              "      <td>0.059777</td>\n",
              "      <td>0.032668</td>\n",
              "      <td>0.205351</td>\n",
              "      <td>0.276241</td>\n",
              "      <td>0.083863</td>\n",
              "      <td>0.066269</td>\n",
              "      <td>I</td>\n",
              "      <td>0.859274</td>\n",
              "      <td>non-polar</td>\n",
              "    </tr>\n",
              "    <tr>\n",
              "      <th>2</th>\n",
              "      <td>20</td>\n",
              "      <td>0.000000</td>\n",
              "      <td>0.057711</td>\n",
              "      <td>1.578429</td>\n",
              "      <td>0.123115</td>\n",
              "      <td>0.056940</td>\n",
              "      <td>0.157598</td>\n",
              "      <td>0.053046</td>\n",
              "      <td>0.048184</td>\n",
              "      <td>0.054634</td>\n",
              "      <td>...</td>\n",
              "      <td>0.060295</td>\n",
              "      <td>0.098218</td>\n",
              "      <td>0.047429</td>\n",
              "      <td>0.044885</td>\n",
              "      <td>0.062976</td>\n",
              "      <td>0.139656</td>\n",
              "      <td>0.110007</td>\n",
              "      <td>C</td>\n",
              "      <td>0.714210</td>\n",
              "      <td>polar</td>\n",
              "    </tr>\n",
              "    <tr>\n",
              "      <th>3</th>\n",
              "      <td>21</td>\n",
              "      <td>0.077844</td>\n",
              "      <td>0.089144</td>\n",
              "      <td>0.100696</td>\n",
              "      <td>0.064763</td>\n",
              "      <td>0.094098</td>\n",
              "      <td>0.055839</td>\n",
              "      <td>0.038984</td>\n",
              "      <td>0.092634</td>\n",
              "      <td>1.469510</td>\n",
              "      <td>...</td>\n",
              "      <td>0.082291</td>\n",
              "      <td>0.039980</td>\n",
              "      <td>0.084321</td>\n",
              "      <td>0.099074</td>\n",
              "      <td>0.142382</td>\n",
              "      <td>0.103434</td>\n",
              "      <td>0.050375</td>\n",
              "      <td>I</td>\n",
              "      <td>0.766489</td>\n",
              "      <td>non-polar</td>\n",
              "    </tr>\n",
              "    <tr>\n",
              "      <th>4</th>\n",
              "      <td>22</td>\n",
              "      <td>0.005076</td>\n",
              "      <td>0.058867</td>\n",
              "      <td>0.135161</td>\n",
              "      <td>0.138590</td>\n",
              "      <td>0.079870</td>\n",
              "      <td>0.056306</td>\n",
              "      <td>1.476877</td>\n",
              "      <td>0.061189</td>\n",
              "      <td>0.051963</td>\n",
              "      <td>...</td>\n",
              "      <td>0.079329</td>\n",
              "      <td>0.068681</td>\n",
              "      <td>0.084593</td>\n",
              "      <td>0.037853</td>\n",
              "      <td>0.149194</td>\n",
              "      <td>0.105167</td>\n",
              "      <td>0.064609</td>\n",
              "      <td>G</td>\n",
              "      <td>0.764519</td>\n",
              "      <td>non-polar</td>\n",
              "    </tr>\n",
              "  </tbody>\n",
              "</table>\n",
              "<p>5 rows × 25 columns</p>\n",
              "</div>"
            ],
            "text/plain": [
              "   site       RSA         A         C         D         E         F         G  \\\n",
              "0    18  0.170984  0.031051  0.032774  0.066396  0.130986  0.077862  0.010545   \n",
              "1    19  0.168605  0.035575  0.074407  0.097060  0.050744  0.068674  0.030246   \n",
              "2    20  0.000000  0.057711  1.578429  0.123115  0.056940  0.157598  0.053046   \n",
              "3    21  0.077844  0.089144  0.100696  0.064763  0.094098  0.055839  0.038984   \n",
              "4    22  0.005076  0.058867  0.135161  0.138590  0.079870  0.056306  1.476877   \n",
              "\n",
              "          H         I         ...                 Q         R         S  \\\n",
              "0  0.230710  0.057492         ...          0.196481  0.325941  0.336750   \n",
              "1  0.057919  1.135448         ...          0.050284  0.059777  0.032668   \n",
              "2  0.048184  0.054634         ...          0.060295  0.098218  0.047429   \n",
              "3  0.092634  1.469510         ...          0.082291  0.039980  0.084321   \n",
              "4  0.061189  0.051963         ...          0.079329  0.068681  0.084593   \n",
              "\n",
              "          T         V         W         Y  wt   entropy  wild_type_polarity  \n",
              "0  0.297381  0.198282  0.063771  0.161101   T  1.007952               polar  \n",
              "1  0.205351  0.276241  0.083863  0.066269   I  0.859274           non-polar  \n",
              "2  0.044885  0.062976  0.139656  0.110007   C  0.714210               polar  \n",
              "3  0.099074  0.142382  0.103434  0.050375   I  0.766489           non-polar  \n",
              "4  0.037853  0.149194  0.105167  0.064609   G  0.764519           non-polar  \n",
              "\n",
              "[5 rows x 25 columns]"
            ]
          },
          "metadata": {
            "tags": []
          },
          "execution_count": 9
        }
      ]
    },
    {
      "metadata": {
        "id": "FuKb3UjJeUae",
        "colab_type": "text"
      },
      "cell_type": "markdown",
      "source": [
        "# Mean of RSA\n",
        "Finding the mean of the RSA values. Finding the polarity preference in the wild-type protien"
      ]
    },
    {
      "metadata": {
        "id": "cMb0zmggeUHX",
        "colab_type": "text"
      },
      "cell_type": "markdown",
      "source": [
        ""
      ]
    },
    {
      "metadata": {
        "colab_type": "code",
        "id": "Ej1-2svyafI9",
        "outputId": "b66a108d-9b35-4a20-d7c9-79f2e54b82f0",
        "colab": {
          "base_uri": "https://localhost:8080/",
          "height": 69
        }
      },
      "cell_type": "code",
      "source": [
        "temp = []\n",
        "for name, group in df.groupby(['wild_type_polarity']):\n",
        "    avg = group['RSA'].mean()\n",
        "    temp.append([avg, name])\n",
        "temp = pd.DataFrame(temp,columns = ['avg', 'wild_type_polarity'])\n",
        "print(temp)\n",
        "  \n"
      ],
      "execution_count": 10,
      "outputs": [
        {
          "output_type": "stream",
          "text": [
            "        avg wild_type_polarity\n",
            "0  0.188743          non-polar\n",
            "1  0.222593              polar\n"
          ],
          "name": "stdout"
        }
      ]
    },
    {
      "metadata": {
        "id": "4p1a2wHse95o",
        "colab_type": "text"
      },
      "cell_type": "markdown",
      "source": [
        "# Bar Plot\n",
        "Coding the bar plot of the RSA data and the wild-type polarity. It appears that the non-polar amino acids in the wild type have a lower RSA average than the polar amino acids. This could be becuase the non-polar amino acids are located more to the inside of the protien than the polar amino acids."
      ]
    },
    {
      "metadata": {
        "colab_type": "code",
        "id": "NG49BoTIeo7n",
        "outputId": "19a26824-ed19-4ca5-dc7e-57eea66ebf9a",
        "colab": {
          "base_uri": "https://localhost:8080/",
          "height": 411
        }
      },
      "cell_type": "code",
      "source": [
        "ax = sns.barplot(x='wild_type_polarity', y='avg', data=temp)\n",
        "ax.set(xlabel=\"Wild type polarity\", ylabel='Average RSA', title='RSA vs WT Polarity')\n",
        "plt.show()"
      ],
      "execution_count": 11,
      "outputs": [
        {
          "output_type": "stream",
          "text": [
            "/usr/local/lib/python3.6/dist-packages/seaborn/categorical.py:1428: FutureWarning: remove_na is deprecated and is a private function. Do not use.\n",
            "  stat_data = remove_na(group_data)\n"
          ],
          "name": "stderr"
        },
        {
          "output_type": "display_data",
          "data": {
            "image/png": "[encoded data removed]",
            "text/plain": [
              "<Figure size 576x396 with 1 Axes>"
            ]
          },
          "metadata": {
            "tags": []
          }
        }
      ]
    },
    {
      "metadata": {
        "colab_type": "text",
        "id": "Fx38GKPJbJwe"
      },
      "cell_type": "markdown",
      "source": [
        "higher RSA means polarity -- proven "
      ]
    },
    {
      "metadata": {
        "colab_type": "text",
        "id": "07MfGc49f9p4"
      },
      "cell_type": "markdown",
      "source": [
        "Prefrences vs. wild_type vs. changed to "
      ]
    },
    {
      "metadata": {
        "colab_type": "code",
        "id": "mSngqklSgPPw",
        "outputId": "be2e59bc-c43e-4743-df3b-505ce9c6449f",
        "colab": {
          "base_uri": "https://localhost:8080/",
          "height": 202
        }
      },
      "cell_type": "code",
      "source": [
        "df2 = df.drop([\"entropy\"], axis = 1) #named this df2 so we wouldn't change df and have to re-run everything during troubleshooting\n",
        "df2 = pd.melt(df2, id_vars=[\"site\", \"RSA\", \"wt\", \"wild_type_polarity\"], var_name=\"amino_acid\", value_name=\"pref\")\n",
        "df2.head()"
      ],
      "execution_count": 12,
      "outputs": [
        {
          "output_type": "execute_result",
          "data": {
            "text/html": [
              "<div>\n",
              "<style scoped>\n",
              "    .dataframe tbody tr th:only-of-type {\n",
              "        vertical-align: middle;\n",
              "    }\n",
              "\n",
              "    .dataframe tbody tr th {\n",
              "        vertical-align: top;\n",
              "    }\n",
              "\n",
              "    .dataframe thead th {\n",
              "        text-align: right;\n",
              "    }\n",
              "</style>\n",
              "<table border=\"1\" class=\"dataframe\">\n",
              "  <thead>\n",
              "    <tr style=\"text-align: right;\">\n",
              "      <th></th>\n",
              "      <th>site</th>\n",
              "      <th>RSA</th>\n",
              "      <th>wt</th>\n",
              "      <th>wild_type_polarity</th>\n",
              "      <th>amino_acid</th>\n",
              "      <th>pref</th>\n",
              "    </tr>\n",
              "  </thead>\n",
              "  <tbody>\n",
              "    <tr>\n",
              "      <th>0</th>\n",
              "      <td>18</td>\n",
              "      <td>0.170984</td>\n",
              "      <td>T</td>\n",
              "      <td>polar</td>\n",
              "      <td>A</td>\n",
              "      <td>0.031051</td>\n",
              "    </tr>\n",
              "    <tr>\n",
              "      <th>1</th>\n",
              "      <td>19</td>\n",
              "      <td>0.168605</td>\n",
              "      <td>I</td>\n",
              "      <td>non-polar</td>\n",
              "      <td>A</td>\n",
              "      <td>0.035575</td>\n",
              "    </tr>\n",
              "    <tr>\n",
              "      <th>2</th>\n",
              "      <td>20</td>\n",
              "      <td>0.000000</td>\n",
              "      <td>C</td>\n",
              "      <td>polar</td>\n",
              "      <td>A</td>\n",
              "      <td>0.057711</td>\n",
              "    </tr>\n",
              "    <tr>\n",
              "      <th>3</th>\n",
              "      <td>21</td>\n",
              "      <td>0.077844</td>\n",
              "      <td>I</td>\n",
              "      <td>non-polar</td>\n",
              "      <td>A</td>\n",
              "      <td>0.089144</td>\n",
              "    </tr>\n",
              "    <tr>\n",
              "      <th>4</th>\n",
              "      <td>22</td>\n",
              "      <td>0.005076</td>\n",
              "      <td>G</td>\n",
              "      <td>non-polar</td>\n",
              "      <td>A</td>\n",
              "      <td>0.058867</td>\n",
              "    </tr>\n",
              "  </tbody>\n",
              "</table>\n",
              "</div>"
            ],
            "text/plain": [
              "   site       RSA wt wild_type_polarity amino_acid      pref\n",
              "0    18  0.170984  T              polar          A  0.031051\n",
              "1    19  0.168605  I          non-polar          A  0.035575\n",
              "2    20  0.000000  C              polar          A  0.057711\n",
              "3    21  0.077844  I          non-polar          A  0.089144\n",
              "4    22  0.005076  G          non-polar          A  0.058867"
            ]
          },
          "metadata": {
            "tags": []
          },
          "execution_count": 12
        }
      ]
    },
    {
      "metadata": {
        "colab_type": "code",
        "id": "AhndSkmzf9AN",
        "outputId": "3c536872-cc42-45d9-f5bb-2681df12c86b",
        "colab": {
          "base_uri": "https://localhost:8080/",
          "height": 202
        }
      },
      "cell_type": "code",
      "source": [
        "df2[\"amino_acid_type\"] = df2[\"amino_acid\"].apply(lambda x: classification[x]) \n",
        "df2[\"change_type\"] = df2[[\"wild_type_polarity\", \"amino_acid_type\"]].apply(lambda x: \"{0}TO{1}\".format(x[0], x[1]), axis =1)\n",
        "df2.head()"
      ],
      "execution_count": 13,
      "outputs": [
        {
          "output_type": "execute_result",
          "data": {
            "text/html": [
              "<div>\n",
              "<style scoped>\n",
              "    .dataframe tbody tr th:only-of-type {\n",
              "        vertical-align: middle;\n",
              "    }\n",
              "\n",
              "    .dataframe tbody tr th {\n",
              "        vertical-align: top;\n",
              "    }\n",
              "\n",
              "    .dataframe thead th {\n",
              "        text-align: right;\n",
              "    }\n",
              "</style>\n",
              "<table border=\"1\" class=\"dataframe\">\n",
              "  <thead>\n",
              "    <tr style=\"text-align: right;\">\n",
              "      <th></th>\n",
              "      <th>site</th>\n",
              "      <th>RSA</th>\n",
              "      <th>wt</th>\n",
              "      <th>wild_type_polarity</th>\n",
              "      <th>amino_acid</th>\n",
              "      <th>pref</th>\n",
              "      <th>amino_acid_type</th>\n",
              "      <th>change_type</th>\n",
              "    </tr>\n",
              "  </thead>\n",
              "  <tbody>\n",
              "    <tr>\n",
              "      <th>0</th>\n",
              "      <td>18</td>\n",
              "      <td>0.170984</td>\n",
              "      <td>T</td>\n",
              "      <td>polar</td>\n",
              "      <td>A</td>\n",
              "      <td>0.031051</td>\n",
              "      <td>non-polar</td>\n",
              "      <td>polarTOnon-polar</td>\n",
              "    </tr>\n",
              "    <tr>\n",
              "      <th>1</th>\n",
              "      <td>19</td>\n",
              "      <td>0.168605</td>\n",
              "      <td>I</td>\n",
              "      <td>non-polar</td>\n",
              "      <td>A</td>\n",
              "      <td>0.035575</td>\n",
              "      <td>non-polar</td>\n",
              "      <td>non-polarTOnon-polar</td>\n",
              "    </tr>\n",
              "    <tr>\n",
              "      <th>2</th>\n",
              "      <td>20</td>\n",
              "      <td>0.000000</td>\n",
              "      <td>C</td>\n",
              "      <td>polar</td>\n",
              "      <td>A</td>\n",
              "      <td>0.057711</td>\n",
              "      <td>non-polar</td>\n",
              "      <td>polarTOnon-polar</td>\n",
              "    </tr>\n",
              "    <tr>\n",
              "      <th>3</th>\n",
              "      <td>21</td>\n",
              "      <td>0.077844</td>\n",
              "      <td>I</td>\n",
              "      <td>non-polar</td>\n",
              "      <td>A</td>\n",
              "      <td>0.089144</td>\n",
              "      <td>non-polar</td>\n",
              "      <td>non-polarTOnon-polar</td>\n",
              "    </tr>\n",
              "    <tr>\n",
              "      <th>4</th>\n",
              "      <td>22</td>\n",
              "      <td>0.005076</td>\n",
              "      <td>G</td>\n",
              "      <td>non-polar</td>\n",
              "      <td>A</td>\n",
              "      <td>0.058867</td>\n",
              "      <td>non-polar</td>\n",
              "      <td>non-polarTOnon-polar</td>\n",
              "    </tr>\n",
              "  </tbody>\n",
              "</table>\n",
              "</div>"
            ],
            "text/plain": [
              "   site       RSA wt wild_type_polarity amino_acid      pref amino_acid_type  \\\n",
              "0    18  0.170984  T              polar          A  0.031051       non-polar   \n",
              "1    19  0.168605  I          non-polar          A  0.035575       non-polar   \n",
              "2    20  0.000000  C              polar          A  0.057711       non-polar   \n",
              "3    21  0.077844  I          non-polar          A  0.089144       non-polar   \n",
              "4    22  0.005076  G          non-polar          A  0.058867       non-polar   \n",
              "\n",
              "            change_type  \n",
              "0      polarTOnon-polar  \n",
              "1  non-polarTOnon-polar  \n",
              "2      polarTOnon-polar  \n",
              "3  non-polarTOnon-polar  \n",
              "4  non-polarTOnon-polar  "
            ]
          },
          "metadata": {
            "tags": []
          },
          "execution_count": 13
        }
      ]
    },
    {
      "metadata": {
        "colab_type": "text",
        "id": "m6HPXnEVmpVH"
      },
      "cell_type": "markdown",
      "source": [
        "Graph of mean (pref) vs. change "
      ]
    },
    {
      "metadata": {
        "colab_type": "code",
        "id": "xZW1XT0Nmja5",
        "outputId": "f288877c-d9d6-4ef2-9569-1f17aa6d17cf",
        "colab": {
          "base_uri": "https://localhost:8080/",
          "height": 171
        }
      },
      "cell_type": "code",
      "source": [
        "temp = []\n",
        "for name, group in df2.groupby([\"change_type\"]):\n",
        "    new_pref = group[\"pref\"].mean() \n",
        "    temp.append([name, new_pref])\n",
        "temp = pd.DataFrame(temp, columns = [\"change_type\", \"mean_pref\"])\n",
        "temp.head()"
      ],
      "execution_count": 14,
      "outputs": [
        {
          "output_type": "execute_result",
          "data": {
            "text/html": [
              "<div>\n",
              "<style scoped>\n",
              "    .dataframe tbody tr th:only-of-type {\n",
              "        vertical-align: middle;\n",
              "    }\n",
              "\n",
              "    .dataframe tbody tr th {\n",
              "        vertical-align: top;\n",
              "    }\n",
              "\n",
              "    .dataframe thead th {\n",
              "        text-align: right;\n",
              "    }\n",
              "</style>\n",
              "<table border=\"1\" class=\"dataframe\">\n",
              "  <thead>\n",
              "    <tr style=\"text-align: right;\">\n",
              "      <th></th>\n",
              "      <th>change_type</th>\n",
              "      <th>mean_pref</th>\n",
              "    </tr>\n",
              "  </thead>\n",
              "  <tbody>\n",
              "    <tr>\n",
              "      <th>0</th>\n",
              "      <td>non-polarTOnon-polar</td>\n",
              "      <td>0.216684</td>\n",
              "    </tr>\n",
              "    <tr>\n",
              "      <th>1</th>\n",
              "      <td>non-polarTOpolar</td>\n",
              "      <td>0.095440</td>\n",
              "    </tr>\n",
              "    <tr>\n",
              "      <th>2</th>\n",
              "      <td>polarTOnon-polar</td>\n",
              "      <td>0.111937</td>\n",
              "    </tr>\n",
              "    <tr>\n",
              "      <th>3</th>\n",
              "      <td>polarTOpolar</td>\n",
              "      <td>0.181143</td>\n",
              "    </tr>\n",
              "  </tbody>\n",
              "</table>\n",
              "</div>"
            ],
            "text/plain": [
              "            change_type  mean_pref\n",
              "0  non-polarTOnon-polar   0.216684\n",
              "1      non-polarTOpolar   0.095440\n",
              "2      polarTOnon-polar   0.111937\n",
              "3          polarTOpolar   0.181143"
            ]
          },
          "metadata": {
            "tags": []
          },
          "execution_count": 14
        }
      ]
    },
    {
      "metadata": {
        "colab_type": "code",
        "id": "wZGykyBfn7_q",
        "outputId": "098fc976-f892-4e5d-b310-889bdc51f3a5",
        "colab": {
          "base_uri": "https://localhost:8080/",
          "height": 499
        }
      },
      "cell_type": "code",
      "source": [
        "ax = sns.barplot(x = \"change_type\", y = \"mean_pref\", data = temp)\n",
        "ax.set(xlabel=\"Change Type\", ylabel='Average Preference', title='Avg. Preference of Amino Acid Change Types')\n",
        "plt.xticks(rotation=90)\n",
        "plt.show()"
      ],
      "execution_count": 15,
      "outputs": [
        {
          "output_type": "stream",
          "text": [
            "/usr/local/lib/python3.6/dist-packages/seaborn/categorical.py:1428: FutureWarning: remove_na is deprecated and is a private function. Do not use.\n",
            "  stat_data = remove_na(group_data)\n"
          ],
          "name": "stderr"
        },
        {
          "output_type": "display_data",
          "data": {
            "image/png": "[encoded data removed]",
            "text/plain": [
              "<Figure size 576x396 with 1 Axes>"
            ]
          },
          "metadata": {
            "tags": []
          }
        }
      ]
    },
    {
      "metadata": {
        "id": "p60Co6RqiFYn",
        "colab_type": "text"
      },
      "cell_type": "markdown",
      "source": [
        "# Bar Plot\n",
        "Finding out if the preference to the types of polarity to change. It appears that the non-polar amino acids have the greatest preference on average, about .23, to stay the same. Just under the non-polar preference, polar amino acids have an avereage preference of about 0.18 to stay polar. The lowest preference on average was about 0.9 which was the non-polar amino acids changing to polar amino acids. Overall it seems that the amino acids have an average prefernce to stay their original ppolarity."
      ]
    },
    {
      "metadata": {
        "scrolled": true,
        "id": "5DWypYbfXE-Z",
        "colab_type": "code",
        "outputId": "d287faae-08f6-41b2-fc07-cea4f6cd12e5",
        "colab": {
          "base_uri": "https://localhost:8080/",
          "height": 202
        }
      },
      "cell_type": "code",
      "source": [
        "df2[\"change_bool\"] = df2[[\"wild_type_polarity\", \"amino_acid_type\"]].apply(lambda x: x[0] != x[1], axis =1)\n",
        "df2.head()\n",
        "\n"
      ],
      "execution_count": 16,
      "outputs": [
        {
          "output_type": "execute_result",
          "data": {
            "text/html": [
              "<div>\n",
              "<style scoped>\n",
              "    .dataframe tbody tr th:only-of-type {\n",
              "        vertical-align: middle;\n",
              "    }\n",
              "\n",
              "    .dataframe tbody tr th {\n",
              "        vertical-align: top;\n",
              "    }\n",
              "\n",
              "    .dataframe thead th {\n",
              "        text-align: right;\n",
              "    }\n",
              "</style>\n",
              "<table border=\"1\" class=\"dataframe\">\n",
              "  <thead>\n",
              "    <tr style=\"text-align: right;\">\n",
              "      <th></th>\n",
              "      <th>site</th>\n",
              "      <th>RSA</th>\n",
              "      <th>wt</th>\n",
              "      <th>wild_type_polarity</th>\n",
              "      <th>amino_acid</th>\n",
              "      <th>pref</th>\n",
              "      <th>amino_acid_type</th>\n",
              "      <th>change_type</th>\n",
              "      <th>change_bool</th>\n",
              "    </tr>\n",
              "  </thead>\n",
              "  <tbody>\n",
              "    <tr>\n",
              "      <th>0</th>\n",
              "      <td>18</td>\n",
              "      <td>0.170984</td>\n",
              "      <td>T</td>\n",
              "      <td>polar</td>\n",
              "      <td>A</td>\n",
              "      <td>0.031051</td>\n",
              "      <td>non-polar</td>\n",
              "      <td>polarTOnon-polar</td>\n",
              "      <td>True</td>\n",
              "    </tr>\n",
              "    <tr>\n",
              "      <th>1</th>\n",
              "      <td>19</td>\n",
              "      <td>0.168605</td>\n",
              "      <td>I</td>\n",
              "      <td>non-polar</td>\n",
              "      <td>A</td>\n",
              "      <td>0.035575</td>\n",
              "      <td>non-polar</td>\n",
              "      <td>non-polarTOnon-polar</td>\n",
              "      <td>False</td>\n",
              "    </tr>\n",
              "    <tr>\n",
              "      <th>2</th>\n",
              "      <td>20</td>\n",
              "      <td>0.000000</td>\n",
              "      <td>C</td>\n",
              "      <td>polar</td>\n",
              "      <td>A</td>\n",
              "      <td>0.057711</td>\n",
              "      <td>non-polar</td>\n",
              "      <td>polarTOnon-polar</td>\n",
              "      <td>True</td>\n",
              "    </tr>\n",
              "    <tr>\n",
              "      <th>3</th>\n",
              "      <td>21</td>\n",
              "      <td>0.077844</td>\n",
              "      <td>I</td>\n",
              "      <td>non-polar</td>\n",
              "      <td>A</td>\n",
              "      <td>0.089144</td>\n",
              "      <td>non-polar</td>\n",
              "      <td>non-polarTOnon-polar</td>\n",
              "      <td>False</td>\n",
              "    </tr>\n",
              "    <tr>\n",
              "      <th>4</th>\n",
              "      <td>22</td>\n",
              "      <td>0.005076</td>\n",
              "      <td>G</td>\n",
              "      <td>non-polar</td>\n",
              "      <td>A</td>\n",
              "      <td>0.058867</td>\n",
              "      <td>non-polar</td>\n",
              "      <td>non-polarTOnon-polar</td>\n",
              "      <td>False</td>\n",
              "    </tr>\n",
              "  </tbody>\n",
              "</table>\n",
              "</div>"
            ],
            "text/plain": [
              "   site       RSA wt wild_type_polarity amino_acid      pref amino_acid_type  \\\n",
              "0    18  0.170984  T              polar          A  0.031051       non-polar   \n",
              "1    19  0.168605  I          non-polar          A  0.035575       non-polar   \n",
              "2    20  0.000000  C              polar          A  0.057711       non-polar   \n",
              "3    21  0.077844  I          non-polar          A  0.089144       non-polar   \n",
              "4    22  0.005076  G          non-polar          A  0.058867       non-polar   \n",
              "\n",
              "            change_type  change_bool  \n",
              "0      polarTOnon-polar         True  \n",
              "1  non-polarTOnon-polar        False  \n",
              "2      polarTOnon-polar         True  \n",
              "3  non-polarTOnon-polar        False  \n",
              "4  non-polarTOnon-polar        False  "
            ]
          },
          "metadata": {
            "tags": []
          },
          "execution_count": 16
        }
      ]
    },
    {
      "metadata": {
        "id": "E5Kndsi1j67S",
        "colab_type": "text"
      },
      "cell_type": "markdown",
      "source": [
        "# Another Graph \n",
        "We are tryping to prove our conclusions drawn above correct. Used the mean of the amino-acid which change and the mean of the amino acids that do not we created a bar graph."
      ]
    },
    {
      "metadata": {
        "id": "qLRrjg4-XE-h",
        "colab_type": "code",
        "outputId": "119c6843-e7e3-480c-e2b6-3ed9d0f3df50",
        "colab": {
          "base_uri": "https://localhost:8080/",
          "height": 110
        }
      },
      "cell_type": "code",
      "source": [
        "#loops\n",
        "temp = []\n",
        "for name, group in df2.groupby([\"change_bool\"]):\n",
        "    new_pref = group[\"pref\"].mean() \n",
        "    temp.append([name, new_pref])\n",
        "temp = pd.DataFrame(temp, columns = [\"change_bool\", \"mean_pref\"])\n",
        "temp.head()"
      ],
      "execution_count": 17,
      "outputs": [
        {
          "output_type": "execute_result",
          "data": {
            "text/html": [
              "<div>\n",
              "<style scoped>\n",
              "    .dataframe tbody tr th:only-of-type {\n",
              "        vertical-align: middle;\n",
              "    }\n",
              "\n",
              "    .dataframe tbody tr th {\n",
              "        vertical-align: top;\n",
              "    }\n",
              "\n",
              "    .dataframe thead th {\n",
              "        text-align: right;\n",
              "    }\n",
              "</style>\n",
              "<table border=\"1\" class=\"dataframe\">\n",
              "  <thead>\n",
              "    <tr style=\"text-align: right;\">\n",
              "      <th></th>\n",
              "      <th>change_bool</th>\n",
              "      <th>mean_pref</th>\n",
              "    </tr>\n",
              "  </thead>\n",
              "  <tbody>\n",
              "    <tr>\n",
              "      <th>0</th>\n",
              "      <td>False</td>\n",
              "      <td>0.194659</td>\n",
              "    </tr>\n",
              "    <tr>\n",
              "      <th>1</th>\n",
              "      <td>True</td>\n",
              "      <td>0.104047</td>\n",
              "    </tr>\n",
              "  </tbody>\n",
              "</table>\n",
              "</div>"
            ],
            "text/plain": [
              "   change_bool  mean_pref\n",
              "0        False   0.194659\n",
              "1         True   0.104047"
            ]
          },
          "metadata": {
            "tags": []
          },
          "execution_count": 17
        }
      ]
    },
    {
      "metadata": {
        "id": "XaZmVicZXE-p",
        "colab_type": "code",
        "outputId": "5a364c2d-2439-4905-f9df-55191b3e67e4",
        "colab": {
          "base_uri": "https://localhost:8080/",
          "height": 411
        }
      },
      "cell_type": "code",
      "source": [
        "ax = sns.barplot(x = \"change_bool\", y = \"mean_pref\", data = temp)\n",
        "ax.set(xlabel=\"Amino Acid Type Changed?\", ylabel='Average Preference', title='Avg. Preference of Amino Acid Type Changes')\n",
        "plt.show()"
      ],
      "execution_count": 18,
      "outputs": [
        {
          "output_type": "stream",
          "text": [
            "/usr/local/lib/python3.6/dist-packages/seaborn/categorical.py:1428: FutureWarning: remove_na is deprecated and is a private function. Do not use.\n",
            "  stat_data = remove_na(group_data)\n"
          ],
          "name": "stderr"
        },
        {
          "output_type": "display_data",
          "data": {
            "image/png": "[encoded data removed]",
            "text/plain": [
              "<Figure size 576x396 with 1 Axes>"
            ]
          },
          "metadata": {
            "tags": []
          }
        }
      ]
    },
    {
      "metadata": {
        "id": "OMYfguYaXE-w",
        "colab_type": "code",
        "outputId": "24c611db-1315-4fe3-e5dc-b85e7db79ddc",
        "colab": {
          "base_uri": "https://localhost:8080/",
          "height": 131
        }
      },
      "cell_type": "code",
      "source": [
        "The bar graph proves that the conclusions above were correct. Amino acids have a preference to stay the same."
      ],
      "execution_count": 19,
      "outputs": [
        {
          "output_type": "error",
          "ename": "SyntaxError",
          "evalue": "ignored",
          "traceback": [
            "\u001b[0;36m  File \u001b[0;32m\"<ipython-input-19-065d8dfa2b95>\"\u001b[0;36m, line \u001b[0;32m1\u001b[0m\n\u001b[0;31m    The bar graph proves that the conclusions above were correct. Amino acids have a preference to stay the same.\u001b[0m\n\u001b[0m          ^\u001b[0m\n\u001b[0;31mSyntaxError\u001b[0m\u001b[0;31m:\u001b[0m invalid syntax\n"
          ]
        }
      ]
    },
    {
      "metadata": {
        "id": "_R8-pH4JXE-2",
        "colab_type": "code",
        "colab": {}
      },
      "cell_type": "code",
      "source": [
        ""
      ],
      "execution_count": 0,
      "outputs": []
    }
  ]
}